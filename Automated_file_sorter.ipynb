{
 "cells": [
  {
   "cell_type": "code",
   "execution_count": 24,
   "id": "c7adb242-790e-4156-856b-e36292f41817",
   "metadata": {},
   "outputs": [],
   "source": [
    "import os , shutil "
   ]
  },
  {
   "cell_type": "code",
   "execution_count": 25,
   "id": "cb3e9b79-d926-4496-b6bc-a2d4c372cdcf",
   "metadata": {},
   "outputs": [],
   "source": [
    "path = r\"/Users/kamal/Cpp/Python/mixed_files/\""
   ]
  },
  {
   "cell_type": "code",
   "execution_count": 26,
   "id": "af2461c6-19c6-4dac-8b16-293c97a43e2a",
   "metadata": {},
   "outputs": [],
   "source": [
    "file_name = os.listdir(path)"
   ]
  },
  {
   "cell_type": "code",
   "execution_count": 27,
   "id": "3dd076a6-c913-4b20-8ad8-fdd93d69930a",
   "metadata": {},
   "outputs": [],
   "source": [
    "folder_names = [ 'html files ' , 'image files ' , 'audio files '  ]\n",
    "\n",
    "for loop in range (0,3):\n",
    "    if not os.path.exists(path + folder_names[loop]):\n",
    "        #print(path + folder_names[loop])\n",
    "        os.makedirs(path + folder_names[loop])\n",
    "\n",
    "for file in file_name:\n",
    "    if \".html \" in file and not os.path.exists(path + \"html files/\" + file ) :\n",
    "        shutil.move(path + file , path + \"html files/\" + file )\n",
    "    elif \".png \" in file and not os.path.exists(path + \"image files/\" + file ) :\n",
    "        shutil.move(path + file , path + \"image files/\" + file )\n",
    "    elif \".wav \" in file and not os.path.exists(path + \"audio files/\" + file ) :\n",
    "        shutil.move(path + file , path + \"audio files/\" + file )\n",
    "    "
   ]
  },
  {
   "cell_type": "code",
   "execution_count": 18,
   "id": "f500fade-0552-419c-aaf5-4a9f5495497f",
   "metadata": {},
   "outputs": [],
   "source": []
  },
  {
   "cell_type": "code",
   "execution_count": null,
   "id": "9ae4d5ee-d421-40c4-853b-f61f568cf4dc",
   "metadata": {},
   "outputs": [],
   "source": []
  }
 ],
 "metadata": {
  "kernelspec": {
   "display_name": "Python (TF-M1)",
   "language": "python",
   "name": "tfenv"
  },
  "language_info": {
   "codemirror_mode": {
    "name": "ipython",
    "version": 3
   },
   "file_extension": ".py",
   "mimetype": "text/x-python",
   "name": "python",
   "nbconvert_exporter": "python",
   "pygments_lexer": "ipython3",
   "version": "3.10.17"
  }
 },
 "nbformat": 4,
 "nbformat_minor": 5
}
